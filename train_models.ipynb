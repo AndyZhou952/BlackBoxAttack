{
 "cells": [
  {
   "cell_type": "markdown",
   "id": "b5d385ac",
   "metadata": {},
   "source": [
    "# Dataset 1: Butterfly & Moths Image Classification 100 species"
   ]
  },
  {
   "cell_type": "markdown",
   "id": "53614e47",
   "metadata": {},
   "source": [
    "## (0) Download Butterfly "
   ]
  },
  {
   "cell_type": "code",
   "execution_count": 14,
   "id": "4f71179c",
   "metadata": {},
   "outputs": [
    {
     "name": "stdout",
     "output_type": "stream",
     "text": [
      "Warning: Your Kaggle API key is readable by other users on this system! To fix this, you can run 'chmod 600 /home/jovyan/.kaggle/kaggle.json'\n",
      "Downloading butterfly-images40-species.zip to /home/jovyan/work/project\n",
      " 99%|███████████████████████████████████████▌| 395M/399M [00:11<00:00, 44.1MB/s]\n",
      "100%|████████████████████████████████████████| 399M/399M [00:11<00:00, 36.1MB/s]\n"
     ]
    }
   ],
   "source": [
    "!kaggle datasets download -d gpiosenka/butterfly-images40-species"
   ]
  },
  {
   "cell_type": "code",
   "execution_count": 1,
   "id": "01317298",
   "metadata": {},
   "outputs": [],
   "source": [
    "import zipfile\n",
    "with zipfile.ZipFile('butterfly-images40-species.zip', 'r') as zip_ref:\n",
    "    zip_ref.extractall('data/butterfly')"
   ]
  },
  {
   "cell_type": "markdown",
   "id": "83799c64",
   "metadata": {},
   "source": [
    "## (1) Process Butterfly Data"
   ]
  },
  {
   "cell_type": "code",
   "execution_count": 1,
   "id": "491fc28c",
   "metadata": {},
   "outputs": [],
   "source": [
    "from utils.data import create_butterfly_dataset\n",
    "trainset, testset, normal_mapping, reverse_mapping, sample_img_dataset = create_butterfly_dataset()\n",
    "assert len(trainset) == 12594, 'Size of train set not match'\n",
    "assert len(testset) == 500, 'Size of test set not match'"
   ]
  },
  {
   "cell_type": "markdown",
   "id": "a4645757",
   "metadata": {},
   "source": [
    "## (2) Train & Save Classifier"
   ]
  },
  {
   "cell_type": "code",
   "execution_count": null,
   "id": "17b85fb9",
   "metadata": {},
   "outputs": [],
   "source": [
    "from model.butterfly_classifier import DenseNet121\n",
    "from utils.base import train_classifier\n",
    "from torch.utils.data import DataLoader\n",
    "from torch import nn\n",
    "import torch\n",
    "\n",
    "# Params\n",
    "batch_size=100\n",
    "lr = 0.0001\n",
    "device='cuda'\n",
    "\n",
    "# Data loader\n",
    "train_loader = DataLoader(dataset=trainset, batch_size=batch_size)\n",
    "test_loader = DataLoader(dataset=testset, batch_size=batch_size)\n",
    "\n",
    "# Model\n",
    "model = DenseNet121(num_classes=len(normal_mapping)).to(device)\n",
    "optimizer = torch.optim.AdamW(model.parameters(),lr=lr)\n",
    "criterion = nn.CrossEntropyLoss()\n",
    "\n",
    "# load states\n",
    "# model.load_state_dict(torch.load('./model/states/butterfly_classifier.pth'))"
   ]
  },
  {
   "cell_type": "code",
   "execution_count": null,
   "id": "4b1d742a",
   "metadata": {},
   "outputs": [],
   "source": [
    "from tqdm import trange\n",
    "\n",
    "train_hist = list()\n",
    "test_hist = list()\n",
    "for epoch in trange(1, 5 + 1):\n",
    "    train_loss, test_loss = train_classifier(model, train_loader, test_loader, optimizer, criterion, epoch)\n",
    "    train_hist.append(train_loss)\n",
    "    test_hist.append(test_loss)\n",
    "    print('Epoch {}: Train: {}, Test: {}'.format(epoch, train_loss, test_loss))\n",
    "    \n",
    "torch.save(model.state_dict(), 'butterfly_classifier.pth')"
   ]
  },
  {
   "cell_type": "markdown",
   "id": "1afb99bc",
   "metadata": {},
   "source": [
    "## (3) Evaluate Classifier\n",
    "\n",
    "Our classifier achieves an accuracy of 96.0% on the test set."
   ]
  },
  {
   "cell_type": "code",
   "execution_count": null,
   "id": "822c90be",
   "metadata": {},
   "outputs": [],
   "source": [
    "from torch.utils.data import DataLoader\n",
    "from utils.base import eval_accuracy\n",
    "\n",
    "\n",
    "acc = eval_accuracy(model, testset,  batch_size=100)\n",
    "print('Accuracy on test set is {}'.format(acc))"
   ]
  },
  {
   "cell_type": "markdown",
   "id": "4418047d",
   "metadata": {},
   "source": [
    "# Dataset 2: Tiny ImageNet"
   ]
  },
  {
   "cell_type": "markdown",
   "id": "49d08126",
   "metadata": {},
   "source": [
    "## (0) Download ImageNet "
   ]
  },
  {
   "cell_type": "code",
   "execution_count": null,
   "id": "0a25c3a6",
   "metadata": {},
   "outputs": [],
   "source": [
    "!kaggle datasets download -d akash2sharma/tiny-imagenet"
   ]
  },
  {
   "cell_type": "code",
   "execution_count": null,
   "id": "116efee3",
   "metadata": {},
   "outputs": [],
   "source": [
    "import zipfile\n",
    "with zipfile.ZipFile('tiny-imagenet.zip', 'r') as zip_ref:\n",
    "    zip_ref.extractall('data/tinyimagenet')"
   ]
  },
  {
   "cell_type": "markdown",
   "id": "7ee8999e",
   "metadata": {},
   "source": [
    "## (1) Process ImageNet Data"
   ]
  },
  {
   "cell_type": "code",
   "execution_count": 4,
   "id": "37679781",
   "metadata": {},
   "outputs": [],
   "source": [
    "from utils.data import create_imagenet_dataset\n",
    "trainset, testset, normal_mapping, reverse_mapping, sample_img_dataset = create_imagenet_dataset(img_reshape=(3, 224, 224), num_classes = 20)\n",
    "assert len(trainset) == 8000, 'Size of train set not match'\n",
    "assert len(testset) == 2000, 'Size of test set not match'"
   ]
  },
  {
   "cell_type": "markdown",
   "id": "94a54333",
   "metadata": {},
   "source": [
    "## (2) Train & Save Classifier"
   ]
  },
  {
   "cell_type": "code",
   "execution_count": null,
   "id": "63ed1037",
   "metadata": {},
   "outputs": [],
   "source": [
    "from model.imagenet_classifier import Inception\n",
    "from utils.base import train_classifier_imagenet\n",
    "\n",
    "# Parameters\n",
    "batch_size=100\n",
    "lr = 0.0001\n",
    "device='cuda'\n",
    "epochs = 50\n",
    "\n",
    "# Data Loader\n",
    "train_loader = DataLoader(dataset=trainset, batch_size=batch_size)\n",
    "test_loader = DataLoader(dataset=testset, batch_size=batch_size)\n",
    "\n",
    "# model, loss, optimizer, and scheduler\n",
    "model = Inception(num_classes=20)\n",
    "model = model.to('cuda')\n",
    "criterion = nn.CrossEntropyLoss()\n",
    "optimizer = torch.optim.Adam(model.parameters(), lr=0.0001, weight_decay=1e-4)\n",
    "lr_scheduler = torch.optim.lr_scheduler.ReduceLROnPlateau(optimizer, patience=5, verbose=True)"
   ]
  },
  {
   "cell_type": "code",
   "execution_count": null,
   "id": "e2c0d4d8",
   "metadata": {},
   "outputs": [],
   "source": [
    "model, _ = train_model(model, {\"train\": train_loader}, criterion, optimizer, epochs)\n",
    "torch.save(model.state_dict(), 'imagenetclassifier.pth')"
   ]
  },
  {
   "cell_type": "markdown",
   "id": "f89092d9",
   "metadata": {},
   "source": [
    "## (3) Evaluate Classifier"
   ]
  },
  {
   "cell_type": "code",
   "execution_count": 8,
   "id": "8e91c13f",
   "metadata": {
    "scrolled": false
   },
   "outputs": [
    {
     "data": {
      "text/plain": [
       "<All keys matched successfully>"
      ]
     },
     "execution_count": 8,
     "metadata": {},
     "output_type": "execute_result"
    }
   ],
   "source": [
    "model = Inception(num_classes=20).to('cuda')\n",
    "model.load_state_dict(torch.load('./model/states/imagenetclassifier.pth'))"
   ]
  },
  {
   "cell_type": "code",
   "execution_count": 22,
   "id": "ab0cf581",
   "metadata": {
    "scrolled": true
   },
   "outputs": [
    {
     "name": "stdout",
     "output_type": "stream",
     "text": [
      "Accuracy on test set is 0.05350000411272049\n"
     ]
    }
   ],
   "source": [
    "from torch.utils.data import DataLoader\n",
    "from utils.base import eval_accuracy\n",
    "acc = eval_accuracy(model, testset,  batch_size=100)\n",
    "print('Accuracy on test set is {}'.format(acc))"
   ]
  }
 ],
 "metadata": {
  "kernelspec": {
   "display_name": "Python 3 (ipykernel)",
   "language": "python",
   "name": "python3"
  },
  "language_info": {
   "codemirror_mode": {
    "name": "ipython",
    "version": 3
   },
   "file_extension": ".py",
   "mimetype": "text/x-python",
   "name": "python",
   "nbconvert_exporter": "python",
   "pygments_lexer": "ipython3",
   "version": "3.10.9"
  }
 },
 "nbformat": 4,
 "nbformat_minor": 5
}
