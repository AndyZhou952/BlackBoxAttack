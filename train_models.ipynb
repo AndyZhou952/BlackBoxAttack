{
 "cells": [
  {
   "cell_type": "markdown",
   "id": "53614e47",
   "metadata": {},
   "source": [
    "# (0) Download Butterfly "
   ]
  },
  {
   "cell_type": "code",
   "execution_count": 14,
   "id": "4f71179c",
   "metadata": {},
   "outputs": [
    {
     "name": "stdout",
     "output_type": "stream",
     "text": [
      "Warning: Your Kaggle API key is readable by other users on this system! To fix this, you can run 'chmod 600 /home/jovyan/.kaggle/kaggle.json'\n",
      "Downloading butterfly-images40-species.zip to /home/jovyan/work/project\n",
      " 99%|███████████████████████████████████████▌| 395M/399M [00:11<00:00, 44.1MB/s]\n",
      "100%|████████████████████████████████████████| 399M/399M [00:11<00:00, 36.1MB/s]\n"
     ]
    }
   ],
   "source": [
    "!kaggle datasets download -d gpiosenka/butterfly-images40-species"
   ]
  },
  {
   "cell_type": "code",
   "execution_count": 1,
   "id": "01317298",
   "metadata": {},
   "outputs": [],
   "source": [
    "import zipfile\n",
    "with zipfile.ZipFile('butterfly-images40-species.zip', 'r') as zip_ref:\n",
    "    zip_ref.extractall('data/butterfly')"
   ]
  },
  {
   "cell_type": "markdown",
   "id": "83799c64",
   "metadata": {},
   "source": [
    "# (1) Process Butterfly Data"
   ]
  },
  {
   "cell_type": "code",
   "execution_count": 1,
   "id": "491fc28c",
   "metadata": {},
   "outputs": [],
   "source": [
    "from utils.data import create_butterfly_dataset\n",
    "trainset, testset, normal_mapping, reverse_mapping = create_butterfly_dataset()\n",
    "assert len(trainset) == 12594, 'Size of train set not match'\n",
    "assert len(testset) == 500, 'Size of test set not match'"
   ]
  },
  {
   "cell_type": "markdown",
   "id": "a4645757",
   "metadata": {},
   "source": [
    "# (2) Train Classifier"
   ]
  },
  {
   "cell_type": "code",
   "execution_count": null,
   "id": "17b85fb9",
   "metadata": {},
   "outputs": [],
   "source": [
    "from model.butterfly_classifier import DenseNet121\n",
    "from utils.base import train_classifier\n",
    "from torch.utils.data import DataLoader\n",
    "from torch import nn\n",
    "import torch\n",
    "\n",
    "# Params\n",
    "batch_size=100\n",
    "lr = 0.0001\n",
    "device='cuda'\n",
    "\n",
    "# Data loader\n",
    "train_loader = DataLoader(dataset=trainset, batch_size=batch_size)\n",
    "test_loader = DataLoader(dataset=testset, batch_size=batch_size)\n",
    "\n",
    "# Model\n",
    "model = DenseNet121(num_classes=len(normal_mapping)).to(device)\n",
    "optimizer = torch.optim.AdamW(model.parameters(),lr=lr)\n",
    "criterion = nn.CrossEntropyLoss()\n",
    "\n",
    "# load states\n",
    "# model.load_state_dict(torch.load('./model/states/butterfly_classifier.pth'))"
   ]
  },
  {
   "cell_type": "code",
   "execution_count": null,
   "id": "4b1d742a",
   "metadata": {},
   "outputs": [],
   "source": [
    "from tqdm import trange\n",
    "\n",
    "train_hist = list()\n",
    "test_hist = list()\n",
    "for epoch in trange(1, 5 + 1):\n",
    "    train_loss, test_loss = train_classifier(model, train_loader, test_loader, optimizer, criterion, epoch)\n",
    "    train_hist.append(train_loss)\n",
    "    test_hist.append(test_loss)\n",
    "    print('Epoch {}: Train: {}, Test: {}'.format(epoch, train_loss, test_loss))\n",
    "    \n",
    "torch.save(model.state_dict(), 'butterfly_classifier.pth')"
   ]
  },
  {
   "cell_type": "markdown",
   "id": "1afb99bc",
   "metadata": {},
   "source": [
    "# (3) Evaluate Classifier"
   ]
  },
  {
   "cell_type": "code",
   "execution_count": null,
   "id": "822c90be",
   "metadata": {},
   "outputs": [],
   "source": [
    "from torch.utils.data import DataLoader\n",
    "from utils.base import eval_accuracy\n",
    "\n",
    "\n",
    "acc = eval_accuracy(model, testset,  batch_size=100)\n",
    "print('Accuracy on test set is {}'.format(acc))"
   ]
  }
 ],
 "metadata": {
  "kernelspec": {
   "display_name": "Python 3",
   "language": "python",
   "name": "python3"
  },
  "language_info": {
   "codemirror_mode": {
    "name": "ipython",
    "version": 3
   },
   "file_extension": ".py",
   "mimetype": "text/x-python",
   "name": "python",
   "nbconvert_exporter": "python",
   "pygments_lexer": "ipython3",
   "version": "3.9.16"
  }
 },
 "nbformat": 4,
 "nbformat_minor": 5
}
