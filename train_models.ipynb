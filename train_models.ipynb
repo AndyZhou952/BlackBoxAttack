{
 "cells": [
  {
   "cell_type": "markdown",
   "id": "f25c49a0",
   "metadata": {},
   "source": [
    "# Dataset 1: Butterfly & Moths Image Classification 100 species"
   ]
  },
  {
   "cell_type": "markdown",
   "id": "53614e47",
   "metadata": {},
   "source": [
    "## (0) Download Butterfly "
   ]
  },
  {
   "cell_type": "code",
   "execution_count": 14,
   "id": "4f71179c",
   "metadata": {},
   "outputs": [
    {
     "name": "stdout",
     "output_type": "stream",
     "text": [
      "Warning: Your Kaggle API key is readable by other users on this system! To fix this, you can run 'chmod 600 /home/jovyan/.kaggle/kaggle.json'\n",
      "Downloading butterfly-images40-species.zip to /home/jovyan/work/project\n",
      " 99%|███████████████████████████████████████▌| 395M/399M [00:11<00:00, 44.1MB/s]\n",
      "100%|████████████████████████████████████████| 399M/399M [00:11<00:00, 36.1MB/s]\n"
     ]
    }
   ],
   "source": [
    "!kaggle datasets download -d gpiosenka/butterfly-images40-species"
   ]
  },
  {
   "cell_type": "code",
   "execution_count": 1,
   "id": "01317298",
   "metadata": {},
   "outputs": [],
   "source": [
    "import zipfile\n",
    "with zipfile.ZipFile('butterfly-images40-species.zip', 'r') as zip_ref:\n",
    "    zip_ref.extractall('data/butterfly')"
   ]
  },
  {
   "cell_type": "markdown",
   "id": "83799c64",
   "metadata": {},
   "source": [
    "## (1) Process Butterfly Data"
   ]
  },
  {
   "cell_type": "code",
   "execution_count": 1,
   "id": "491fc28c",
   "metadata": {},
   "outputs": [],
   "source": [
    "from utils.data import create_butterfly_dataset\n",
    "trainset, testset, normal_mapping, reverse_mapping, sample_img_dataset = create_butterfly_dataset()\n",
    "assert len(trainset) == 12594, 'Size of train set not match'\n",
    "assert len(testset) == 500, 'Size of test set not match'"
   ]
  },
  {
   "cell_type": "markdown",
   "id": "a4645757",
   "metadata": {},
   "source": [
    "## (2) Train & Save Classifier"
   ]
  },
  {
   "cell_type": "code",
   "execution_count": null,
   "id": "17b85fb9",
   "metadata": {},
   "outputs": [],
   "source": [
    "from model.butterfly_classifier import DenseNet121\n",
    "from utils.base import train_classifier\n",
    "from torch.utils.data import DataLoader\n",
    "from torch import nn\n",
    "import torch\n",
    "\n",
    "# Params\n",
    "batch_size=100\n",
    "lr = 0.0001\n",
    "device='cuda'\n",
    "\n",
    "# Data loader\n",
    "train_loader = DataLoader(dataset=trainset, batch_size=batch_size)\n",
    "test_loader = DataLoader(dataset=testset, batch_size=batch_size)\n",
    "\n",
    "# Model\n",
    "model = DenseNet121(num_classes=len(normal_mapping)).to(device)\n",
    "optimizer = torch.optim.AdamW(model.parameters(),lr=lr)\n",
    "criterion = nn.CrossEntropyLoss()\n",
    "\n",
    "# load states\n",
    "# model.load_state_dict(torch.load('./model/states/butterfly_classifier.pth'))"
   ]
  },
  {
   "cell_type": "code",
   "execution_count": null,
   "id": "4b1d742a",
   "metadata": {},
   "outputs": [],
   "source": [
    "from tqdm import trange\n",
    "\n",
    "train_hist = list()\n",
    "test_hist = list()\n",
    "for epoch in trange(1, 5 + 1):\n",
    "    train_loss, test_loss = train_classifier(model, train_loader, test_loader, optimizer, criterion, epoch)\n",
    "    train_hist.append(train_loss)\n",
    "    test_hist.append(test_loss)\n",
    "    print('Epoch {}: Train: {}, Test: {}'.format(epoch, train_loss, test_loss))\n",
    "    \n",
    "torch.save(model.state_dict(), 'butterfly_classifier.pth')"
   ]
  },
  {
   "cell_type": "markdown",
   "id": "1afb99bc",
   "metadata": {},
   "source": [
    "## (3) Evaluate Classifier\n",
    "\n",
    "Our classifier achieves an accuracy of 96.0% on the test set."
   ]
  },
  {
   "cell_type": "code",
   "execution_count": null,
   "id": "822c90be",
   "metadata": {},
   "outputs": [],
   "source": [
    "from torch.utils.data import DataLoader\n",
    "from utils.base import eval_accuracy\n",
    "\n",
    "\n",
    "acc = eval_accuracy(model, testset,  batch_size=100)\n",
    "print('Accuracy on test set is {}'.format(acc))"
   ]
  },
  {
   "cell_type": "markdown",
   "id": "219b3abf",
   "metadata": {},
   "source": [
    "# Dataset 2: Tiny ImageNet"
   ]
  },
  {
   "cell_type": "markdown",
   "id": "a7911c38",
   "metadata": {},
   "source": [
    "## (0) Download ImageNet "
   ]
  },
  {
   "cell_type": "code",
   "execution_count": null,
   "id": "57396dd8",
   "metadata": {},
   "outputs": [],
   "source": [
    "!kaggle datasets download -d akash2sharma/tiny-imagenet"
   ]
  },
  {
   "cell_type": "code",
   "execution_count": null,
   "id": "15453a0e",
   "metadata": {},
   "outputs": [],
   "source": [
    "import zipfile\n",
    "with zipfile.ZipFile('tiny-imagenet.zip', 'r') as zip_ref:\n",
    "    zip_ref.extractall('data/tinyimagenet')"
   ]
  },
  {
   "cell_type": "markdown",
   "id": "f0878f8d",
   "metadata": {},
   "source": [
    "## (1) Process ImageNet Data"
   ]
  },
  {
   "cell_type": "code",
   "execution_count": 4,
   "id": "bd7a4ae4",
   "metadata": {},
   "outputs": [],
   "source": [
    "from utils.data import create_imagenet_dataset\n",
    "trainset, testset, normal_mapping, reverse_mapping, sample_img_dataset = create_imagenet_dataset(img_reshape=(3, 224, 224), num_classes = 20)\n",
    "assert len(trainset) == 8000, 'Size of train set not match'\n",
    "assert len(testset) == 2000, 'Size of test set not match'"
   ]
  },
  {
   "cell_type": "markdown",
   "id": "a057c39c",
   "metadata": {},
   "source": [
    "## (2) Train & Save Classifier"
   ]
  },
  {
   "cell_type": "code",
   "execution_count": 28,
   "id": "83aa477a",
   "metadata": {},
   "outputs": [
    {
     "data": {
      "application/vnd.jupyter.widget-view+json": {
       "model_id": "efd3a1da38cc44a4a7608ab0d0756bc4",
       "version_major": 2,
       "version_minor": 0
      },
      "text/plain": [
       "model.safetensors:   0%|          | 0.00/95.5M [00:00<?, ?B/s]"
      ]
     },
     "metadata": {},
     "output_type": "display_data"
    },
    {
     "name": "stderr",
     "output_type": "stream",
     "text": [
      "C:\\Users\\jinga\\anaconda3\\lib\\site-packages\\huggingface_hub\\file_download.py:147: UserWarning: `huggingface_hub` cache-system uses symlinks by default to efficiently store duplicated files but your machine does not support them in C:\\Users\\jinga\\.cache\\huggingface\\hub. Caching files will still work but in a degraded version that might require more space on your disk. This warning can be disabled by setting the `HF_HUB_DISABLE_SYMLINKS_WARNING` environment variable. For more details, see https://huggingface.co/docs/huggingface_hub/how-to-cache#limitations.\n",
      "To support symlinks on Windows, you either need to activate Developer Mode or to run Python as an administrator. In order to see activate developer mode, see this article: https://docs.microsoft.com/en-us/windows/apps/get-started/enable-your-device-for-development\n",
      "  warnings.warn(message)\n"
     ]
    }
   ],
   "source": [
    "from model.imagenet_classifier import InceptionV3\n",
    "from utils.base import train_classifier_imagenet\n",
    "\n",
    "# Parameters\n",
    "batch_size=100\n",
    "lr = 0.0001\n",
    "\n",
    "# Data Loader\n",
    "train_loader = DataLoader(dataset=trainset, batch_size=batch_size)\n",
    "test_loader = DataLoader(dataset=testset, batch_size=batch_size)\n",
    "\n",
    "# model, loss, optimizer, and scheduler\n",
    "model = InceptionV3(num_classes=20).to('cuda')\n",
    "model = model.to('cuda')\n",
    "criterion = nn.CrossEntropyLoss()\n",
    "optimizer = torch.optim.Adam(model.parameters(), lr=0.0001, weight_decay=1e-4)\n",
    "lr_scheduler = torch.optim.lr_scheduler.ReduceLROnPlateau(optimizer, patience=5, verbose=True)"
   ]
  },
  {
   "cell_type": "code",
   "execution_count": 29,
   "id": "aad45e17",
   "metadata": {
    "collapsed": true
   },
   "outputs": [
    {
     "name": "stderr",
     "output_type": "stream",
     "text": [
      " 20%|████████████████▌                                                                  | 1/5 [03:53<15:33, 233.31s/it]"
     ]
    },
    {
     "name": "stdout",
     "output_type": "stream",
     "text": [
      "Epoch 1: Train: 1.3993307277560234, Test: 0.6634422808885574\n"
     ]
    },
    {
     "name": "stderr",
     "output_type": "stream",
     "text": [
      "\r",
      " 40%|█████████████████████████████████▏                                                 | 2/5 [07:49<11:45, 235.12s/it]"
     ]
    },
    {
     "name": "stdout",
     "output_type": "stream",
     "text": [
      "Epoch 2: Train: 0.333159423712641, Test: 0.6131627306342124\n"
     ]
    },
    {
     "name": "stderr",
     "output_type": "stream",
     "text": [
      "\r",
      " 60%|█████████████████████████████████████████████████▊                                 | 3/5 [11:40<07:46, 233.32s/it]"
     ]
    },
    {
     "name": "stdout",
     "output_type": "stream",
     "text": [
      "Epoch 3: Train: 0.06279878542991355, Test: 0.6467071786522866\n"
     ]
    },
    {
     "name": "stderr",
     "output_type": "stream",
     "text": [
      "\r",
      " 80%|██████████████████████████████████████████████████████████████████▍                | 4/5 [15:34<03:53, 233.51s/it]"
     ]
    },
    {
     "name": "stdout",
     "output_type": "stream",
     "text": [
      "Epoch 4: Train: 0.012380183630739339, Test: 0.6652144812047481\n"
     ]
    },
    {
     "name": "stderr",
     "output_type": "stream",
     "text": [
      "100%|███████████████████████████████████████████████████████████████████████████████████| 5/5 [19:26<00:00, 233.21s/it]"
     ]
    },
    {
     "name": "stdout",
     "output_type": "stream",
     "text": [
      "Epoch 5: Train: 0.005448856894508936, Test: 0.6708217523992062\n"
     ]
    },
    {
     "name": "stderr",
     "output_type": "stream",
     "text": [
      "\n"
     ]
    }
   ],
   "source": [
    "from tqdm import trange\n",
    "\n",
    "train_hist = list()\n",
    "test_hist = list()\n",
    "for epoch in trange(1, 5 + 1):\n",
    "    train_loss, test_loss = train_classifier(model, train_loader, test_loader, optimizer, criterion, epoch)\n",
    "    train_hist.append(train_loss)\n",
    "    test_hist.append(test_loss)\n",
    "    print('Epoch {}: Train: {}, Test: {}'.format(epoch, train_loss, test_loss))\n",
    "    \n",
    "torch.save(model.state_dict(), 'imagenetclassifier.pth')"
   ]
  },
  {
   "cell_type": "markdown",
   "id": "35627674",
   "metadata": {},
   "source": [
    "## (3) Evaluate Classifier"
   ]
  },
  {
   "cell_type": "code",
   "execution_count": 30,
   "id": "f893b83c",
   "metadata": {
    "scrolled": true
   },
   "outputs": [
    {
     "name": "stdout",
     "output_type": "stream",
     "text": [
      "Accuracy on test set is 0.8355000615119934\n"
     ]
    }
   ],
   "source": [
    "acc = eval_accuracy(model, testset,  batch_size=100)\n",
    "print('Accuracy on test set is {}'.format(acc))"
   ]
  }
 ],
 "metadata": {
  "kernelspec": {
   "display_name": "Python 3 (ipykernel)",
   "language": "python",
   "name": "python3"
  },
  "language_info": {
   "codemirror_mode": {
    "name": "ipython",
    "version": 3
   },
   "file_extension": ".py",
   "mimetype": "text/x-python",
   "name": "python",
   "nbconvert_exporter": "python",
   "pygments_lexer": "ipython3",
   "version": "3.10.9"
  }
 },
 "nbformat": 4,
 "nbformat_minor": 5
}
