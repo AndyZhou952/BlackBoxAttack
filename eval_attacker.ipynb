{
 "cells": [
  {
   "cell_type": "markdown",
   "id": "2299f451",
   "metadata": {},
   "source": [
    "# (0) Download Butterfly "
   ]
  },
  {
   "cell_type": "code",
   "execution_count": 2,
   "id": "10e43057",
   "metadata": {},
   "outputs": [
    {
     "name": "stderr",
     "output_type": "stream",
     "text": [
      "'kaggle' 不是内部或外部命令，也不是可运行的程序\n",
      "或批处理文件。\n"
     ]
    }
   ],
   "source": [
    "!kaggle datasets download -d gpiosenka/butterfly-images40-species"
   ]
  },
  {
   "cell_type": "code",
   "execution_count": 3,
   "id": "dfd14509",
   "metadata": {},
   "outputs": [
    {
     "ename": "FileNotFoundError",
     "evalue": "[Errno 2] No such file or directory: 'butterfly-images40-species.zip'",
     "output_type": "error",
     "traceback": [
      "\u001b[1;31m---------------------------------------------------------------------------\u001b[0m",
      "\u001b[1;31mFileNotFoundError\u001b[0m                         Traceback (most recent call last)",
      "Cell \u001b[1;32mIn[3], line 2\u001b[0m\n\u001b[0;32m      1\u001b[0m \u001b[38;5;28;01mimport\u001b[39;00m \u001b[38;5;21;01mzipfile\u001b[39;00m\n\u001b[1;32m----> 2\u001b[0m \u001b[38;5;28;01mwith\u001b[39;00m \u001b[43mzipfile\u001b[49m\u001b[38;5;241;43m.\u001b[39;49m\u001b[43mZipFile\u001b[49m\u001b[43m(\u001b[49m\u001b[38;5;124;43m'\u001b[39;49m\u001b[38;5;124;43mbutterfly-images40-species.zip\u001b[39;49m\u001b[38;5;124;43m'\u001b[39;49m\u001b[43m,\u001b[49m\u001b[43m \u001b[49m\u001b[38;5;124;43m'\u001b[39;49m\u001b[38;5;124;43mr\u001b[39;49m\u001b[38;5;124;43m'\u001b[39;49m\u001b[43m)\u001b[49m \u001b[38;5;28;01mas\u001b[39;00m zip_ref:\n\u001b[0;32m      3\u001b[0m     zip_ref\u001b[38;5;241m.\u001b[39mextractall(\u001b[38;5;124m'\u001b[39m\u001b[38;5;124mdata/butterfly\u001b[39m\u001b[38;5;124m'\u001b[39m)\n",
      "File \u001b[1;32m~\\anaconda3\\lib\\zipfile.py:1249\u001b[0m, in \u001b[0;36mZipFile.__init__\u001b[1;34m(self, file, mode, compression, allowZip64, compresslevel, strict_timestamps)\u001b[0m\n\u001b[0;32m   1247\u001b[0m \u001b[38;5;28;01mwhile\u001b[39;00m \u001b[38;5;28;01mTrue\u001b[39;00m:\n\u001b[0;32m   1248\u001b[0m     \u001b[38;5;28;01mtry\u001b[39;00m:\n\u001b[1;32m-> 1249\u001b[0m         \u001b[38;5;28mself\u001b[39m\u001b[38;5;241m.\u001b[39mfp \u001b[38;5;241m=\u001b[39m \u001b[43mio\u001b[49m\u001b[38;5;241;43m.\u001b[39;49m\u001b[43mopen\u001b[49m\u001b[43m(\u001b[49m\u001b[43mfile\u001b[49m\u001b[43m,\u001b[49m\u001b[43m \u001b[49m\u001b[43mfilemode\u001b[49m\u001b[43m)\u001b[49m\n\u001b[0;32m   1250\u001b[0m     \u001b[38;5;28;01mexcept\u001b[39;00m \u001b[38;5;167;01mOSError\u001b[39;00m:\n\u001b[0;32m   1251\u001b[0m         \u001b[38;5;28;01mif\u001b[39;00m filemode \u001b[38;5;129;01min\u001b[39;00m modeDict:\n",
      "\u001b[1;31mFileNotFoundError\u001b[0m: [Errno 2] No such file or directory: 'butterfly-images40-species.zip'"
     ]
    }
   ],
   "source": [
    "import zipfile\n",
    "with zipfile.ZipFile('butterfly-images40-species.zip', 'r') as zip_ref:\n",
    "    zip_ref.extractall('data/butterfly')"
   ]
  },
  {
   "cell_type": "markdown",
   "id": "0033965e",
   "metadata": {},
   "source": [
    "# (1) Process Butterfly Data"
   ]
  },
  {
   "cell_type": "code",
   "execution_count": 4,
   "id": "9c5e6fc3",
   "metadata": {},
   "outputs": [],
   "source": [
    "from utils.data import create_butterfly_dataset\n",
    "trainset, testset, normal_mapping, reverse_mapping = create_butterfly_dataset()\n",
    "assert len(trainset) == 12594, 'Size of train set not match'\n",
    "assert len(testset) == 500, 'Size of test set not match'"
   ]
  },
  {
   "cell_type": "markdown",
   "id": "f59a8bd5",
   "metadata": {},
   "source": [
    "# (2) Import Classifier"
   ]
  },
  {
   "cell_type": "code",
   "execution_count": 5,
   "id": "04bd1ec5",
   "metadata": {},
   "outputs": [
    {
     "data": {
      "text/plain": [
       "<All keys matched successfully>"
      ]
     },
     "execution_count": 5,
     "metadata": {},
     "output_type": "execute_result"
    }
   ],
   "source": [
    "from model.butterfly_classifier import DenseNet121\n",
    "import torch\n",
    "\n",
    "model = DenseNet121(num_classes=len(normal_mapping)).to('cuda')\n",
    "model.load_state_dict(torch.load('./model/states/butterfly_classifier.pth'))"
   ]
  },
  {
   "cell_type": "markdown",
   "id": "ba40a5a8",
   "metadata": {},
   "source": [
    "# (3) Evaluate Untargeted Adversarial Examples"
   ]
  },
  {
   "cell_type": "code",
   "execution_count": 6,
   "id": "a42d0c2c",
   "metadata": {},
   "outputs": [
    {
     "name": "stdout",
     "output_type": "stream",
     "text": [
      "Accuracy on test set is 0.9640000462532043\n"
     ]
    }
   ],
   "source": [
    "from torch.utils.data import DataLoader\n",
    "from utils.base import eval_accuracy\n",
    "\n",
    "\n",
    "acc = eval_accuracy(model, testset,  batch_size=100)\n",
    "print('Accuracy on test set is {}'.format(acc))"
   ]
  },
  {
   "cell_type": "code",
   "execution_count": 7,
   "id": "cc147729",
   "metadata": {},
   "outputs": [
    {
     "name": "stderr",
     "output_type": "stream",
     "text": [
      "100%|██████████████████████████████████████████████████████████████████████████████████| 60/60 [01:58<00:00,  1.97s/it]\n"
     ]
    }
   ],
   "source": [
    "from algo.attacker import adversarial_generator\n",
    "\n",
    "test_img, test_label = testset[5]\n",
    "test_img = test_img.unsqueeze(0)\n",
    "\n",
    "adv_img = adversarial_generator(model = model, target_class=test_label,\n",
    "                             image=test_img, \n",
    "                             search_var=1e-3,\n",
    "                             sample_num=50,\n",
    "                             bound=0.1,\n",
    "                             lr=0.01,\n",
    "                             query_limit=3000)"
   ]
  },
  {
   "cell_type": "code",
   "execution_count": 8,
   "id": "55c53973",
   "metadata": {},
   "outputs": [
    {
     "name": "stdout",
     "output_type": "stream",
     "text": [
      "Adversarial: predicted class is tensor([31], device='cuda:0')\n",
      "Original: predicted class is tensor([97], device='cuda:0')\n",
      "Adversarial: logit of true class is 13.538077354431152\n",
      "Original: logit of true class is 14.32826042175293\n",
      "Adversarial: probability of true class is 1.2336280633462593e-05\n",
      "Original: probability of true class is 0.9327952265739441\n"
     ]
    }
   ],
   "source": [
    "import torch.nn.functional as F\n",
    "\n",
    "adv_logits = model(adv_img)\n",
    "org_logits = model(test_img.to('cuda'))\n",
    "\n",
    "print('Adversarial: predicted class is {}'.format(torch.argmax(adv_logits, dim=1)))\n",
    "print('Original: predicted class is {}'.format(torch.argmax(org_logits, dim=1)))\n",
    "\n",
    "print('Adversarial: logit of true class is {}'.format(adv_logits[0, test_label]))\n",
    "print('Original: logit of true class is {}'.format(org_logits[0, test_label]))\n",
    "\n",
    "print('Adversarial: probability of true class is {}'.format(F.softmax(adv_logits, dim=1)[0, test_label]))\n",
    "print('Original: probability of true class is {}'.format(F.softmax(org_logits, dim=1)[0, test_label]))"
   ]
  }
 ],
 "metadata": {
  "kernelspec": {
   "display_name": "Python 3 (ipykernel)",
   "language": "python",
   "name": "python3"
  },
  "language_info": {
   "codemirror_mode": {
    "name": "ipython",
    "version": 3
   },
   "file_extension": ".py",
   "mimetype": "text/x-python",
   "name": "python",
   "nbconvert_exporter": "python",
   "pygments_lexer": "ipython3",
   "version": "3.10.9"
  }
 },
 "nbformat": 4,
 "nbformat_minor": 5
}
